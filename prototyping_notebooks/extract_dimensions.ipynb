{
 "cells": [
  {
   "cell_type": "markdown",
   "id": "ebc6f0c2",
   "metadata": {},
   "source": [
    "# Import needed modules "
   ]
  },
  {
   "cell_type": "code",
   "execution_count": 1,
   "id": "c4508627",
   "metadata": {},
   "outputs": [],
   "source": [
    "import pandas as pd "
   ]
  },
  {
   "cell_type": "markdown",
   "id": "92fb10a7",
   "metadata": {},
   "source": [
    "# Import the needed files from e and f "
   ]
  },
  {
   "cell_type": "code",
   "execution_count": 2,
   "id": "3513dce5",
   "metadata": {},
   "outputs": [],
   "source": [
    "name = 'yannis'"
   ]
  },
  {
   "cell_type": "code",
   "execution_count": 4,
   "id": "792e1d45",
   "metadata": {},
   "outputs": [
    {
     "data": {
      "text/html": [
       "<div>\n",
       "<style scoped>\n",
       "    .dataframe tbody tr th:only-of-type {\n",
       "        vertical-align: middle;\n",
       "    }\n",
       "\n",
       "    .dataframe tbody tr th {\n",
       "        vertical-align: top;\n",
       "    }\n",
       "\n",
       "    .dataframe thead th {\n",
       "        text-align: right;\n",
       "    }\n",
       "</style>\n",
       "<table border=\"1\" class=\"dataframe\">\n",
       "  <thead>\n",
       "    <tr style=\"text-align: right;\">\n",
       "      <th></th>\n",
       "      <th>Component Name</th>\n",
       "      <th>thickness</th>\n",
       "    </tr>\n",
       "  </thead>\n",
       "  <tbody>\n",
       "    <tr>\n",
       "      <th>0</th>\n",
       "      <td>panel1</td>\n",
       "      <td>2.90</td>\n",
       "    </tr>\n",
       "    <tr>\n",
       "      <th>1</th>\n",
       "      <td>panel10</td>\n",
       "      <td>2.90</td>\n",
       "    </tr>\n",
       "    <tr>\n",
       "      <th>2</th>\n",
       "      <td>panel2</td>\n",
       "      <td>3.38</td>\n",
       "    </tr>\n",
       "    <tr>\n",
       "      <th>3</th>\n",
       "      <td>panel3</td>\n",
       "      <td>3.39</td>\n",
       "    </tr>\n",
       "    <tr>\n",
       "      <th>4</th>\n",
       "      <td>panel4</td>\n",
       "      <td>3.37</td>\n",
       "    </tr>\n",
       "    <tr>\n",
       "      <th>5</th>\n",
       "      <td>panel5</td>\n",
       "      <td>3.36</td>\n",
       "    </tr>\n",
       "    <tr>\n",
       "      <th>6</th>\n",
       "      <td>panel6</td>\n",
       "      <td>3.36</td>\n",
       "    </tr>\n",
       "    <tr>\n",
       "      <th>7</th>\n",
       "      <td>panel7</td>\n",
       "      <td>3.37</td>\n",
       "    </tr>\n",
       "    <tr>\n",
       "      <th>8</th>\n",
       "      <td>panel8</td>\n",
       "      <td>3.39</td>\n",
       "    </tr>\n",
       "    <tr>\n",
       "      <th>9</th>\n",
       "      <td>panel9</td>\n",
       "      <td>3.38</td>\n",
       "    </tr>\n",
       "  </tbody>\n",
       "</table>\n",
       "</div>"
      ],
      "text/plain": [
       "  Component Name  thickness\n",
       "0         panel1       2.90\n",
       "1        panel10       2.90\n",
       "2         panel2       3.38\n",
       "3         panel3       3.39\n",
       "4         panel4       3.37\n",
       "5         panel5       3.36\n",
       "6         panel6       3.36\n",
       "7         panel7       3.37\n",
       "8         panel8       3.39\n",
       "9         panel9       3.38"
      ]
     },
     "execution_count": 4,
     "metadata": {},
     "output_type": "execute_result"
    }
   ],
   "source": [
    "dataEdf = pd.read_csv(f'../data/{name}/output/update_e.csv')\n",
    "dataEdf"
   ]
  },
  {
   "cell_type": "markdown",
   "id": "03075959",
   "metadata": {},
   "source": [
    "# Extract the dimensions"
   ]
  },
  {
   "cell_type": "code",
   "execution_count": 6,
   "id": "a1aa0762",
   "metadata": {},
   "outputs": [
    {
     "data": {
      "text/plain": [
       "[np.float64(2.9),\n",
       " np.float64(3.38),\n",
       " np.float64(3.39),\n",
       " np.float64(3.37),\n",
       " np.float64(3.36)]"
      ]
     },
     "execution_count": 6,
     "metadata": {},
     "output_type": "execute_result"
    }
   ],
   "source": [
    "panelThicknesses =[]\n",
    "for i in range(1,6):\n",
    "    panelThicknesses.append(dataEdf.thickness[i])\n",
    "panelThicknesses"
   ]
  },
  {
   "cell_type": "markdown",
   "id": "b6a544df",
   "metadata": {},
   "source": [
    "# Return the needed format "
   ]
  },
  {
   "cell_type": "code",
   "execution_count": null,
   "id": "3b22d43d",
   "metadata": {},
   "outputs": [],
   "source": [
    " return panelThicknesses"
   ]
  }
 ],
 "metadata": {
  "kernelspec": {
   "display_name": ".venv",
   "language": "python",
   "name": "python3"
  },
  "language_info": {
   "codemirror_mode": {
    "name": "ipython",
    "version": 3
   },
   "file_extension": ".py",
   "mimetype": "text/x-python",
   "name": "python",
   "nbconvert_exporter": "python",
   "pygments_lexer": "ipython3",
   "version": "3.13.0"
  }
 },
 "nbformat": 4,
 "nbformat_minor": 5
}
