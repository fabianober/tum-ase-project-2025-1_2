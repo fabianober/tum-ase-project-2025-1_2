{
 "cells": [
  {
   "cell_type": "markdown",
   "id": "ebc6f0c2",
   "metadata": {},
   "source": [
    "# Import needed modules "
   ]
  },
  {
   "cell_type": "code",
   "execution_count": 1,
   "id": "c4508627",
   "metadata": {},
   "outputs": [],
   "source": [
    "import pandas as pd "
   ]
  },
  {
   "cell_type": "markdown",
   "id": "92fb10a7",
   "metadata": {},
   "source": [
    "# Import the needed files from e and f "
   ]
  },
  {
   "cell_type": "code",
   "execution_count": 2,
   "id": "3513dce5",
   "metadata": {},
   "outputs": [],
   "source": [
    "name = 'yannis'"
   ]
  },
  {
   "cell_type": "code",
   "execution_count": 3,
   "id": "792e1d45",
   "metadata": {},
   "outputs": [
    {
     "data": {
      "text/html": [
       "<div>\n",
       "<style scoped>\n",
       "    .dataframe tbody tr th:only-of-type {\n",
       "        vertical-align: middle;\n",
       "    }\n",
       "\n",
       "    .dataframe tbody tr th {\n",
       "        vertical-align: top;\n",
       "    }\n",
       "\n",
       "    .dataframe thead th {\n",
       "        text-align: right;\n",
       "    }\n",
       "</style>\n",
       "<table border=\"1\" class=\"dataframe\">\n",
       "  <thead>\n",
       "    <tr style=\"text-align: right;\">\n",
       "      <th></th>\n",
       "      <th>Component Name</th>\n",
       "      <th>thickness</th>\n",
       "    </tr>\n",
       "  </thead>\n",
       "  <tbody>\n",
       "    <tr>\n",
       "      <th>0</th>\n",
       "      <td>panel1</td>\n",
       "      <td>3.83</td>\n",
       "    </tr>\n",
       "    <tr>\n",
       "      <th>1</th>\n",
       "      <td>panel10</td>\n",
       "      <td>3.83</td>\n",
       "    </tr>\n",
       "    <tr>\n",
       "      <th>2</th>\n",
       "      <td>panel2</td>\n",
       "      <td>4.15</td>\n",
       "    </tr>\n",
       "    <tr>\n",
       "      <th>3</th>\n",
       "      <td>panel3</td>\n",
       "      <td>4.16</td>\n",
       "    </tr>\n",
       "    <tr>\n",
       "      <th>4</th>\n",
       "      <td>panel4</td>\n",
       "      <td>4.14</td>\n",
       "    </tr>\n",
       "    <tr>\n",
       "      <th>5</th>\n",
       "      <td>panel5</td>\n",
       "      <td>4.70</td>\n",
       "    </tr>\n",
       "    <tr>\n",
       "      <th>6</th>\n",
       "      <td>panel6</td>\n",
       "      <td>4.70</td>\n",
       "    </tr>\n",
       "    <tr>\n",
       "      <th>7</th>\n",
       "      <td>panel7</td>\n",
       "      <td>4.14</td>\n",
       "    </tr>\n",
       "    <tr>\n",
       "      <th>8</th>\n",
       "      <td>panel8</td>\n",
       "      <td>4.16</td>\n",
       "    </tr>\n",
       "    <tr>\n",
       "      <th>9</th>\n",
       "      <td>panel9</td>\n",
       "      <td>4.15</td>\n",
       "    </tr>\n",
       "  </tbody>\n",
       "</table>\n",
       "</div>"
      ],
      "text/plain": [
       "  Component Name  thickness\n",
       "0         panel1       3.83\n",
       "1        panel10       3.83\n",
       "2         panel2       4.15\n",
       "3         panel3       4.16\n",
       "4         panel4       4.14\n",
       "5         panel5       4.70\n",
       "6         panel6       4.70\n",
       "7         panel7       4.14\n",
       "8         panel8       4.16\n",
       "9         panel9       4.15"
      ]
     },
     "execution_count": 3,
     "metadata": {},
     "output_type": "execute_result"
    }
   ],
   "source": [
    "dataEdf = pd.read_csv(f'../data/{name}/output/update_e.csv')\n",
    "dataEdf"
   ]
  },
  {
   "cell_type": "markdown",
   "id": "03075959",
   "metadata": {},
   "source": [
    "# Extract the dimensions"
   ]
  },
  {
   "cell_type": "code",
   "execution_count": 4,
   "id": "a1aa0762",
   "metadata": {},
   "outputs": [
    {
     "data": {
      "text/plain": [
       "[np.float64(3.83),\n",
       " np.float64(4.15),\n",
       " np.float64(4.16),\n",
       " np.float64(4.14),\n",
       " np.float64(4.7)]"
      ]
     },
     "execution_count": 4,
     "metadata": {},
     "output_type": "execute_result"
    }
   ],
   "source": [
    "panelThicknesses =[]\n",
    "for i in range(1,6):\n",
    "    panelThicknesses.append(dataEdf.thickness[i])\n",
    "panelThicknesses"
   ]
  },
  {
   "cell_type": "markdown",
   "id": "b6a544df",
   "metadata": {},
   "source": [
    "# Return the needed format "
   ]
  },
  {
   "cell_type": "code",
   "execution_count": 5,
   "id": "3b22d43d",
   "metadata": {},
   "outputs": [],
   "source": [
    " #return panelThicknesses"
   ]
  },
  {
   "cell_type": "markdown",
   "id": "614b968e",
   "metadata": {},
   "source": [
    "# Testing of generation append "
   ]
  },
  {
   "cell_type": "code",
   "execution_count": 10,
   "id": "3bfd71e7",
   "metadata": {},
   "outputs": [
    {
     "data": {
      "text/html": [
       "<div>\n",
       "<style scoped>\n",
       "    .dataframe tbody tr th:only-of-type {\n",
       "        vertical-align: middle;\n",
       "    }\n",
       "\n",
       "    .dataframe tbody tr th {\n",
       "        vertical-align: top;\n",
       "    }\n",
       "\n",
       "    .dataframe thead th {\n",
       "        text-align: right;\n",
       "    }\n",
       "</style>\n",
       "<table border=\"1\" class=\"dataframe\">\n",
       "  <thead>\n",
       "    <tr style=\"text-align: right;\">\n",
       "      <th></th>\n",
       "      <th>panel thickness</th>\n",
       "      <th>stringer Parameters</th>\n",
       "      <th>score</th>\n",
       "    </tr>\n",
       "  </thead>\n",
       "  <tbody>\n",
       "    <tr>\n",
       "      <th>0</th>\n",
       "      <td>[np.float64(4.0), np.float64(4.0), np.float64(...</td>\n",
       "      <td>[[np.float64(25.0), np.float64(2.0), np.float6...</td>\n",
       "      <td>2814.330000</td>\n",
       "    </tr>\n",
       "    <tr>\n",
       "      <th>0</th>\n",
       "      <td>[np.float64(4.0), np.float64(4.0), np.float64(...</td>\n",
       "      <td>[[np.float64(25.0), np.float64(2.0), np.float6...</td>\n",
       "      <td>5315.721969</td>\n",
       "    </tr>\n",
       "  </tbody>\n",
       "</table>\n",
       "</div>"
      ],
      "text/plain": [
       "                                     panel thickness  \\\n",
       "0  [np.float64(4.0), np.float64(4.0), np.float64(...   \n",
       "0  [np.float64(4.0), np.float64(4.0), np.float64(...   \n",
       "\n",
       "                                 stringer Parameters        score  \n",
       "0  [[np.float64(25.0), np.float64(2.0), np.float6...  2814.330000  \n",
       "0  [[np.float64(25.0), np.float64(2.0), np.float6...  5315.721969  "
      ]
     },
     "execution_count": 10,
     "metadata": {},
     "output_type": "execute_result"
    }
   ],
   "source": [
    "# Import already existing iterations\n",
    "\n",
    "scoreDf = pd.read_csv(f'../data/{name}/output/generation.csv')\n",
    "# Import files to compute new score \n",
    "panelScoreDf = pd.read_csv(f'../data/{name}/output/panelScore.csv')\n",
    "stringerScoreDf = pd.read_csv(f'../data/{name}/output/stringerScore.csv')\n",
    "\n",
    "# Concat to one new parameter score entry\n",
    "newscoreDf = pd.DataFrame({\n",
    "    'panel thickness':[panelScoreDf['panel thickness'][0]],\n",
    "    'stringer Parameters':[stringerScoreDf['stringer Parameters'][0]],\n",
    "    'score':[panelScoreDf.score[0] + stringerScoreDf.score[0]]\n",
    "})\n",
    "\n",
    "scoreDf=pd.concat([scoreDf, newscoreDf], axis=0)\n",
    "\"\"\"scoreDf.to_csv(f'../data/{name}/output/generation.csv', index=False)\"\"\"\n",
    "\n",
    "scoreDf\n",
    "\n",
    "\n",
    "\n"
   ]
  }
 ],
 "metadata": {
  "kernelspec": {
   "display_name": ".venv",
   "language": "python",
   "name": "python3"
  },
  "language_info": {
   "codemirror_mode": {
    "name": "ipython",
    "version": 3
   },
   "file_extension": ".py",
   "mimetype": "text/x-python",
   "name": "python",
   "nbconvert_exporter": "python",
   "pygments_lexer": "ipython3",
   "version": "3.13.0"
  }
 },
 "nbformat": 4,
 "nbformat_minor": 5
}
