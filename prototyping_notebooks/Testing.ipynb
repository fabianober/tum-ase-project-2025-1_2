{
 "cells": [
  {
   "cell_type": "code",
   "execution_count": 2,
   "id": "a6b68f14",
   "metadata": {},
   "outputs": [],
   "source": [
    "import pandas as pd\n",
    "name = 'yannis'"
   ]
  },
  {
   "cell_type": "code",
   "execution_count": null,
   "id": "32023e3b",
   "metadata": {},
   "outputs": [
    {
     "data": {
      "text/html": [
       "<div>\n",
       "<style scoped>\n",
       "    .dataframe tbody tr th:only-of-type {\n",
       "        vertical-align: middle;\n",
       "    }\n",
       "\n",
       "    .dataframe tbody tr th {\n",
       "        vertical-align: top;\n",
       "    }\n",
       "\n",
       "    .dataframe thead th {\n",
       "        text-align: right;\n",
       "    }\n",
       "</style>\n",
       "<table border=\"1\" class=\"dataframe\">\n",
       "  <thead>\n",
       "    <tr style=\"text-align: right;\">\n",
       "      <th></th>\n",
       "      <th>panel thickness</th>\n",
       "      <th>score</th>\n",
       "      <th>stringer Parameters</th>\n",
       "    </tr>\n",
       "  </thead>\n",
       "  <tbody>\n",
       "    <tr>\n",
       "      <th>0</th>\n",
       "      <td>[4.3, 4.3, 3.76, 3.82, 3.99]</td>\n",
       "      <td>5269.570011</td>\n",
       "      <td>[[25.23, 2.14, 19.88, 14.74], [24.72, 1.91, 20...</td>\n",
       "    </tr>\n",
       "    <tr>\n",
       "      <th>1</th>\n",
       "      <td>[4.0, 4.0, 4.0, 4.0, 4.0]</td>\n",
       "      <td>5315.722635</td>\n",
       "      <td>[[25.0, 2.0, 20.0, 15.0], [25.0, 2.0, 20.0, 15...</td>\n",
       "    </tr>\n",
       "  </tbody>\n",
       "</table>\n",
       "</div>"
      ],
      "text/plain": [
       "                panel thickness        score  \\\n",
       "0  [4.3, 4.3, 3.76, 3.82, 3.99]  5269.570011   \n",
       "1     [4.0, 4.0, 4.0, 4.0, 4.0]  5315.722635   \n",
       "\n",
       "                                 stringer Parameters  \n",
       "0  [[25.23, 2.14, 19.88, 14.74], [24.72, 1.91, 20...  \n",
       "1  [[25.0, 2.0, 20.0, 15.0], [25.0, 2.0, 20.0, 15...  "
      ]
     },
     "execution_count": 15,
     "metadata": {},
     "output_type": "execute_result"
    }
   ],
   "source": [
    "generationDf = pd.read_csv(f'../data/{name}/output/generations.csv')\n",
    "scoreDf = pd.read_csv(f'../data/{name}/output/children.csv')\n",
    "min_row = scoreDf.loc[scoreDf['score'].idxmin()]\n",
    "min_row = min_row.to_frame().T\n",
    "generationDf=pd.concat([generationDf, min_row], axis=0)\n",
    "generationDf = generationDf.sort_values(by='score', ascending=True).reset_index(drop=True)\n",
    "\n",
    "\n"
   ]
  }
 ],
 "metadata": {
  "kernelspec": {
   "display_name": ".venv",
   "language": "python",
   "name": "python3"
  },
  "language_info": {
   "codemirror_mode": {
    "name": "ipython",
    "version": 3
   },
   "file_extension": ".py",
   "mimetype": "text/x-python",
   "name": "python",
   "nbconvert_exporter": "python",
   "pygments_lexer": "ipython3",
   "version": "3.13.0"
  }
 },
 "nbformat": 4,
 "nbformat_minor": 5
}
